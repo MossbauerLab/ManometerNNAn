{
  "nbformat": 4,
  "nbformat_minor": 0,
  "metadata": {
    "colab": {
      "name": "sm2201_manometer_analyzer.ipynb",
      "version": "0.3.2",
      "provenance": [],
      "collapsed_sections": [],
      "include_colab_link": true
    },
    "kernelspec": {
      "name": "python3",
      "display_name": "Python 3"
    },
    "accelerator": "GPU"
  },
  "cells": [
    {
      "cell_type": "markdown",
      "metadata": {
        "id": "view-in-github",
        "colab_type": "text"
      },
      "source": [
        "<a href=\"https://colab.research.google.com/github/MossbauerLab/ManometerNNAn/blob/master/sm2201_manometer_analyzer.ipynb\" target=\"_parent\"><img src=\"https://colab.research.google.com/assets/colab-badge.svg\" alt=\"Open In Colab\"/></a>"
      ]
    },
    {
      "cell_type": "markdown",
      "metadata": {
        "id": "i5oIySvv66vf",
        "colab_type": "text"
      },
      "source": [
        "Получение списка изображений с гугл диска, изображения представляют собой классификацию положения стрелки манометра\n",
        "шкала (0-1,6 атм.)\n",
        "Изображения рассортированы по директориям с положением стрелки манометра около соответсвующего значения шкалы:\n",
        "\n",
        "*   0,1 атм\n",
        "*   0,2 атм\n",
        "\n",
        "...\n",
        "\n",
        "*   1,6 атм\n",
        "\n",
        "Для поиска варианта при котором наиболее оптимальный результат оценки работы нейросети изображения имеют разную степень свертки (оригинал, 128х128 пикселей, ...)\n",
        "Оригинал имеет имя типа {Value}.{Number}\n",
        "где {Value} - величина давления\n",
        "       {Number} - какое-то число (номер изображения)\n",
        "       \n",
        "Сжатые изображения имеют имя типа  {Value}.{Number}_{WxH}\n",
        "где {WxH} - величина изображения в пикселях ширина х высота\n",
        "\n",
        "ФОРМАТ ИЗОБРАЖЕНИЙ - .jpg\n"
      ]
    },
    {
      "cell_type": "markdown",
      "metadata": {
        "id": "dQ2NysP8NQb9",
        "colab_type": "text"
      },
      "source": [
        "Монтирование гугл диска"
      ]
    },
    {
      "cell_type": "code",
      "metadata": {
        "id": "UbY6-H_C9PN-",
        "colab_type": "code",
        "outputId": "d1e04561-5376-4e18-bcdd-bfc0aa6d59c1",
        "colab": {
          "base_uri": "https://localhost:8080/",
          "height": 121
        }
      },
      "source": [
        "from google.colab import drive\n",
        "drive.mount(u'/content/gdrive')"
      ],
      "execution_count": 0,
      "outputs": [
        {
          "output_type": "stream",
          "text": [
            "Go to this URL in a browser: https://accounts.google.com/o/oauth2/auth?client_id=947318989803-6bn6qk8qdgf4n4g3pfee6491hc0brc4i.apps.googleusercontent.com&redirect_uri=urn%3Aietf%3Awg%3Aoauth%3A2.0%3Aoob&scope=email%20https%3A%2F%2Fwww.googleapis.com%2Fauth%2Fdocs.test%20https%3A%2F%2Fwww.googleapis.com%2Fauth%2Fdrive%20https%3A%2F%2Fwww.googleapis.com%2Fauth%2Fdrive.photos.readonly%20https%3A%2F%2Fwww.googleapis.com%2Fauth%2Fpeopleapi.readonly&response_type=code\n",
            "\n",
            "Enter your authorization code:\n",
            "··········\n",
            "Mounted at /content/gdrive\n"
          ],
          "name": "stdout"
        }
      ]
    },
    {
      "cell_type": "code",
      "metadata": {
        "id": "M2qiPpFcPFgo",
        "colab_type": "code",
        "outputId": "a221b2db-f144-4c56-a555-3f77c0fae7c6",
        "colab": {
          "base_uri": "https://localhost:8080/",
          "height": 1498
        }
      },
      "source": [
        "import os\n",
        "from tensorflow.python.keras.preprocessing.image import ImageDataGenerator\n",
        "from tensorflow.python.keras.models import Sequential\n",
        "from tensorflow.python.keras.layers import Conv2D, MaxPooling2D\n",
        "from tensorflow.python.keras.layers import Activation, Dropout, Flatten, Dense\n",
        "from tensorflow.python.keras.applications import VGG16\n",
        "\n",
        "\n",
        "# list root dir\n",
        "# for item in os.listdir(u'/content/gdrive/My Drive'):\n",
        "#    print(u'sub folder item: ' + item)\n",
        "\n",
        "manometer_nn_data_path = os.path.join(u'/content/gdrive', 'My Drive/MessbauerSoft/NeuralNetworks_Data/Manometer')\n",
        "print (u'path to root folder with manometer neural network data is:' + os.path.abspath(manometer_nn_data_path))\n",
        "\n",
        "# manometer train data = test (it is not good, but we are going to use this case)\n",
        "train_data_path = os.path.join(manometer_nn_data_path, u'train')\n",
        "test_data_path = os.path.join(manometer_nn_data_path, u'test')\n",
        "validate_data_path = os.path.join(manometer_nn_data_path, u'validate')\n",
        "\n",
        "# list sub folder (classification items)\n",
        "'''\n",
        "for item in os.listdir(train_data_path):\n",
        "    print(u'sub folder item: ' + item)\n",
        "'''\n",
        "img_width, img_height = 128, 128\n",
        "\n",
        "input_shape = (img_width, img_height, 3)\n",
        "\n",
        "epochs = 30\n",
        "\n",
        "batch_size = 6\n",
        "\n",
        "nb_classes = 33\n",
        "\n",
        "# todo: umv: count images\n",
        "nb_train_samples = 35\n",
        "\n",
        "vgg16_net = VGG16(include_top=False, input_shape=input_shape, pooling='max')\n",
        "# vgg16_net.summary()\n",
        "\n",
        "model = Sequential()\n",
        "model.add(vgg16_net)\n",
        "#model.add(Flatten())\n",
        "model.add(Dense(1024))\n",
        "model.add(Activation('relu'))\n",
        "model.add(Dense(nb_classes))\n",
        "model.add(Activation('softmax'))\n",
        "model.summary()\n",
        "\n",
        "# optimizer SGD - Stochastic gradient descent optimizer, has a lot of params\n",
        "# see optimizers here: https://keras.io/optimizers/\n",
        "model.compile(loss='categorical_crossentropy', optimizer='SGD', metrics=['accuracy'])\n",
        "\n",
        "datagen = ImageDataGenerator(rescale=1. / 255)\n",
        "train_generator = datagen.flow_from_directory(train_data_path,\n",
        "                                              target_size=(img_width, img_height),\n",
        "                                              batch_size=batch_size,\n",
        "                                              class_mode='categorical')\n",
        "\n",
        "# i don't know would we use validation or not ...\n",
        "validation_generator = datagen.flow_from_directory(validate_data_path, \n",
        "                                                   target_size=(img_width, img_height),\n",
        "                                                   batch_size=batch_size,\n",
        "                                                   class_mode='categorical')\n",
        "\n",
        "\n",
        "model.fit_generator(train_generator, \n",
        "                    steps_per_epoch=1,\n",
        "                    epochs=epochs,\n",
        "                    validation_data=None\n",
        "                    #validation_steps=nb_validation_samples // batch_size\n",
        "                   )\n",
        "\n",
        "nb_test_samples = 1\n",
        "test_generator = datagen.flow_from_directory(test_data_path,\n",
        "                                             target_size=(img_width, img_height),\n",
        "                                             batch_size=batch_size,\n",
        "                                             class_mode='categorical')\n",
        "\n",
        "# TEST generated neural network\n",
        "prediction = model.predict_generator(test_generator, nb_test_samples)\n",
        "print(prediction)\n"
      ],
      "execution_count": 33,
      "outputs": [
        {
          "output_type": "stream",
          "text": [
            "path to root folder with manometer neural network data is:/content/gdrive/My Drive/MessbauerSoft/NeuralNetworks_Data/Manometer\n",
            "_________________________________________________________________\n",
            "Layer (type)                 Output Shape              Param #   \n",
            "=================================================================\n",
            "vgg16 (Model)                (None, 512)               14714688  \n",
            "_________________________________________________________________\n",
            "dense_62 (Dense)             (None, 1024)              525312    \n",
            "_________________________________________________________________\n",
            "activation_62 (Activation)   (None, 1024)              0         \n",
            "_________________________________________________________________\n",
            "dense_63 (Dense)             (None, 33)                33825     \n",
            "_________________________________________________________________\n",
            "activation_63 (Activation)   (None, 33)                0         \n",
            "=================================================================\n",
            "Total params: 15,273,825\n",
            "Trainable params: 15,273,825\n",
            "Non-trainable params: 0\n",
            "_________________________________________________________________\n",
            "Found 33 images belonging to 33 classes.\n",
            "Found 0 images belonging to 0 classes.\n",
            "Epoch 1/30\n",
            "6/6 [==============================] - 1s 200ms/step - loss: 3.9772 - acc: 0.0000e+00\n",
            "Epoch 2/30\n",
            "6/6 [==============================] - 0s 66ms/step - loss: 3.7085 - acc: 0.0303\n",
            "Epoch 3/30\n",
            "6/6 [==============================] - 0s 49ms/step - loss: 3.6982 - acc: 0.0000e+00\n",
            "Epoch 4/30\n",
            "6/6 [==============================] - 0s 66ms/step - loss: 3.5889 - acc: 0.0303\n",
            "Epoch 5/30\n",
            "6/6 [==============================] - 0s 49ms/step - loss: 3.5634 - acc: 0.0000e+00\n",
            "Epoch 6/30\n",
            "6/6 [==============================] - 0s 66ms/step - loss: 3.4071 - acc: 0.1515\n",
            "Epoch 7/30\n",
            "6/6 [==============================] - 0s 49ms/step - loss: 3.2654 - acc: 0.1212\n",
            "Epoch 8/30\n",
            "6/6 [==============================] - 0s 65ms/step - loss: 3.2682 - acc: 0.0909\n",
            "Epoch 9/30\n",
            "6/6 [==============================] - 0s 50ms/step - loss: 3.0770 - acc: 0.0606\n",
            "Epoch 10/30\n",
            "6/6 [==============================] - 0s 64ms/step - loss: 2.9614 - acc: 0.0606\n",
            "Epoch 11/30\n",
            "6/6 [==============================] - 0s 50ms/step - loss: 3.1527 - acc: 0.1818\n",
            "Epoch 12/30\n",
            "6/6 [==============================] - 0s 64ms/step - loss: 2.5228 - acc: 0.2727\n",
            "Epoch 13/30\n",
            "6/6 [==============================] - 0s 53ms/step - loss: 3.1053 - acc: 0.1818\n",
            "Epoch 14/30\n",
            "6/6 [==============================] - 0s 62ms/step - loss: 2.9482 - acc: 0.1515\n",
            "Epoch 15/30\n",
            "6/6 [==============================] - 0s 50ms/step - loss: 2.3313 - acc: 0.3636\n",
            "Epoch 16/30\n",
            "6/6 [==============================] - 0s 65ms/step - loss: 2.0236 - acc: 0.3636\n",
            "Epoch 17/30\n",
            "6/6 [==============================] - 0s 50ms/step - loss: 1.9433 - acc: 0.3939\n",
            "Epoch 18/30\n",
            "6/6 [==============================] - 0s 63ms/step - loss: 1.4517 - acc: 0.4545\n",
            "Epoch 19/30\n",
            "6/6 [==============================] - 0s 53ms/step - loss: 1.9124 - acc: 0.4242\n",
            "Epoch 20/30\n",
            "6/6 [==============================] - 0s 63ms/step - loss: 2.1456 - acc: 0.3636\n",
            "Epoch 21/30\n",
            "6/6 [==============================] - 0s 50ms/step - loss: 1.8091 - acc: 0.5455\n",
            "Epoch 22/30\n",
            "6/6 [==============================] - 0s 64ms/step - loss: 1.0473 - acc: 0.6364\n",
            "Epoch 23/30\n",
            "6/6 [==============================] - 0s 50ms/step - loss: 1.3375 - acc: 0.5152\n",
            "Epoch 24/30\n",
            "6/6 [==============================] - 0s 65ms/step - loss: 0.9194 - acc: 0.6970\n",
            "Epoch 25/30\n",
            "6/6 [==============================] - 0s 51ms/step - loss: 0.9830 - acc: 0.7576\n",
            "Epoch 26/30\n",
            "6/6 [==============================] - 0s 64ms/step - loss: 0.8100 - acc: 0.6970\n",
            "Epoch 27/30\n",
            "6/6 [==============================] - 0s 50ms/step - loss: 0.6006 - acc: 0.7273\n",
            "Epoch 28/30\n",
            "6/6 [==============================] - 0s 64ms/step - loss: 0.5069 - acc: 0.8485\n",
            "Epoch 29/30\n",
            "6/6 [==============================] - 0s 51ms/step - loss: 0.8215 - acc: 0.7576\n",
            "Epoch 30/30\n",
            "6/6 [==============================] - 0s 63ms/step - loss: 1.0993 - acc: 0.6970\n",
            "Found 1 images belonging to 1 classes.\n",
            "[[0.0358498  0.02050176 0.02428651 0.06263169 0.01991718 0.02330537\n",
            "  0.03061793 0.02873458 0.04863746 0.0062946  0.01722187 0.00805967\n",
            "  0.01985076 0.01379413 0.02744589 0.09517554 0.0325618  0.01913153\n",
            "  0.03644523 0.05115576 0.04105792 0.04504281 0.03016614 0.06949393\n",
            "  0.00487162 0.02669965 0.00717196 0.03114659 0.0182062  0.01318578\n",
            "  0.04326676 0.01801598 0.0300555 ]]\n"
          ],
          "name": "stdout"
        }
      ]
    },
    {
      "cell_type": "markdown",
      "metadata": {
        "colab_type": "text",
        "id": "ObG0td0qBxY6"
      },
      "source": [
        ""
      ]
    }
  ]
}